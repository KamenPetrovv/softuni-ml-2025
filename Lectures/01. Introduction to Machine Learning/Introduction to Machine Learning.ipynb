{
 "cells": [
  {
   "cell_type": "markdown",
   "id": "b95b3b90-2116-440a-9bca-730e0b824ade",
   "metadata": {},
   "source": [
    "# Introduction to Machine Learning"
   ]
  },
  {
   "cell_type": "markdown",
   "id": "79aa8776-8c93-4eb8-a89e-f8133a84668d",
   "metadata": {},
   "source": [
    "Project: Explain a bit about where the data came from before starting to work on it. If it comes from Kaggle, where did they get it from? Anything inyeresting about it?"
   ]
  },
  {
   "cell_type": "markdown",
   "id": "169a9caa-83a8-47ec-9687-0231f624e5c3",
   "metadata": {},
   "source": [
    "**Interesting:** in-sample and out of sample testing\n",
    "\n",
    "In-sample and out-of-sample testing are methods to evaluate a model's predictive performance by using different datasets. In-sample (IS) testing uses historical data that was used to develop and optimize the model, revealing its fit to that data. Out-of-sample (OOS) testing evaluates the model on completely new, unseen data, assessing its ability to generalize to future conditions and avoid overfitting.\n",
    "\n",
    "**Intersting:** You shouldnt do PCA before doing clustering because PCA loses the clusters"
   ]
  },
  {
   "attachments": {},
   "cell_type": "markdown",
   "id": "649ec4b5-cd25-4eaa-a540-b3364f0167b0",
   "metadata": {},
   "source": [
    "## The Scientific Method Steps\n",
    "<img src =\"Images\\hypothesis_testing.jpg\" width=\"300\">"
   ]
  },
  {
   "cell_type": "code",
   "execution_count": null,
   "id": "98b66176-1b3c-442d-8cc2-2a0ac2f99850",
   "metadata": {},
   "outputs": [],
   "source": []
  }
 ],
 "metadata": {
  "kernelspec": {
   "display_name": "Python 3 (ipykernel)",
   "language": "python",
   "name": "python3"
  },
  "language_info": {
   "codemirror_mode": {
    "name": "ipython",
    "version": 3
   },
   "file_extension": ".py",
   "mimetype": "text/x-python",
   "name": "python",
   "nbconvert_exporter": "python",
   "pygments_lexer": "ipython3",
   "version": "3.13.7"
  }
 },
 "nbformat": 4,
 "nbformat_minor": 5
}
